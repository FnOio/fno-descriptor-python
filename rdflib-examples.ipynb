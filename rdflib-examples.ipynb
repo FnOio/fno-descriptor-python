{
 "cells": [
  {
   "cell_type": "code",
   "execution_count": 2,
   "id": "2f27e2cd-05e0-4ed6-9929-8e2cfed17322",
   "metadata": {},
   "outputs": [],
   "source": [
    "import rdflib as rl"
   ]
  },
  {
   "cell_type": "code",
   "execution_count": 39,
   "id": "6545d9a4-a40f-489e-8c22-b8a7cfba2d07",
   "metadata": {},
   "outputs": [],
   "source": [
    "prefixes = {\n",
    "    'rdf': \"http://www.w3.org/1999/02/22-rdf-syntax-ns#\",\n",
    "    'rdfs': \"http://www.w3.org/2000/01/rdf-schema#\",\n",
    "    'xsd': \"http://www.w3.org/2001/XMLSchema#\",\n",
    "    'ex': \"http://www.example.com#\",\n",
    "    'dcterms': \"http://purl.org/dc/terms/\",\n",
    "    'doap': \"http://usefulinc.com/ns/doap#\",\n",
    "    'fno': \"https://w3id.org/function/ontology#\",\n",
    "    'fnoi': \"https://w3id.org/function/vocabulary/implementation#\",\n",
    "    'fnom': \"https://w3id.org/function/vocabulary/mapping#\",\n",
    "    'fnoc': \"https://w3id.org/function/vocabulary/composition#\",\n",
    "    'fns': \"http://example.com/functions#\"\n",
    "}\n",
    "NAMESPACES = { k: rdflib.Namespace(v) for k,v in prefixes.items() }\n",
    "FNO = NAMESPACES['fno']\n",
    "FNOM = NAMESPACES['fnom']\n",
    "FNS = NAMESPACES['fns']"
   ]
  },
  {
   "cell_type": "code",
   "execution_count": 40,
   "id": "d1bdd24b-7ae6-4cb5-bd12-35820f279a67",
   "metadata": {},
   "outputs": [],
   "source": [
    "def bind_namespaces(g: rdflib.Graph, namespaces = NAMESPACES) -> rdflib.Graph:\n",
    "    for prefix, ns in NAMESPACES.items():\n",
    "        g.bind(prefix, ns)\n",
    "    return g"
   ]
  },
  {
   "cell_type": "markdown",
   "id": "925d62b5-8754-41b6-a38a-c589baf0a1e6",
   "metadata": {},
   "source": [
    "# Examples: creating a list"
   ]
  },
  {
   "cell_type": "markdown",
   "id": "0cb41639-6e13-4afd-a931-0c602f4f405f",
   "metadata": {},
   "source": [
    "## EXAMPLE 1"
   ]
  },
  {
   "cell_type": "code",
   "execution_count": 48,
   "id": "07694faf-ad1f-4aa6-bc9c-3517c338b036",
   "metadata": {},
   "outputs": [
    {
     "name": "stdout",
     "output_type": "stream",
     "text": [
      "@prefix rdf: <http://www.w3.org/1999/02/22-rdf-syntax-ns#> .\n",
      "\n",
      "<http://www.example.com#myList> rdf:first \"one\" ;\n",
      "    rdf:rest ( \"TWO\" \"three\" ) .\n",
      "\n",
      "\n"
     ]
    }
   ],
   "source": [
    "g = rl.Graph()\n",
    "\n",
    "c = g.collection(rl.URIRef(\"http://www.example.com#myList\"),)\n",
    "c += [\n",
    "    rl.Literal('one'),\n",
    "    rl.Literal('TWO'),\n",
    "    rl.Literal('three')\n",
    "]\n",
    "c.graph.print()"
   ]
  },
  {
   "cell_type": "code",
   "execution_count": 49,
   "id": "caec2d94-90bf-457d-bd4d-dd4397158d3a",
   "metadata": {},
   "outputs": [
    {
     "data": {
      "text/plain": [
       "'( \"one\" \"TWO\" \"three\" )'"
      ]
     },
     "execution_count": 49,
     "metadata": {},
     "output_type": "execute_result"
    }
   ],
   "source": [
    "c.n3()"
   ]
  },
  {
   "cell_type": "markdown",
   "id": "fbe179c2-33dc-4975-b1d4-2575869dbb6e",
   "metadata": {},
   "source": [
    "## EXAMPLE 2"
   ]
  },
  {
   "cell_type": "code",
   "execution_count": 50,
   "id": "9416e5df-a526-4b3b-ab92-c9530668f4d9",
   "metadata": {},
   "outputs": [
    {
     "data": {
      "text/plain": [
       "Namespace('http://www.example.com#')"
      ]
     },
     "execution_count": 50,
     "metadata": {},
     "output_type": "execute_result"
    }
   ],
   "source": [
    "NAMESPACES['ex']"
   ]
  },
  {
   "cell_type": "code",
   "execution_count": 54,
   "id": "98213d19-6696-43ee-8fed-4562805b1d0c",
   "metadata": {},
   "outputs": [
    {
     "name": "stdout",
     "output_type": "stream",
     "text": [
      "@prefix ex: <http://www.example.com#> .\n",
      "@prefix rdf: <http://www.w3.org/1999/02/22-rdf-syntax-ns#> .\n",
      "\n",
      "ex:myList rdf:first ex:intParameterA ;\n",
      "    rdf:rest ( ex:intParameterB ex:intParameterC ) .\n",
      "\n",
      "\n"
     ]
    }
   ],
   "source": [
    "g = rl.Graph()\n",
    "c = g.collection(rl.URIRef(\"http://www.example.com#myList\"),)\n",
    "bind_namespaces(g)\n",
    "c += [\n",
    "    rl.URIRef(\"http://www.example.com#intParameterA\"),\n",
    "    rl.URIRef(\"http://www.example.com#intParameterB\"),\n",
    "    rl.URIRef(\"http://www.example.com#intParameterC\"),\n",
    "\n",
    "]\n",
    "c.graph.print()"
   ]
  },
  {
   "cell_type": "code",
   "execution_count": null,
   "id": "b29396d9-410e-4516-9d60-f86b8114e24d",
   "metadata": {},
   "outputs": [],
   "source": []
  },
  {
   "cell_type": "code",
   "execution_count": null,
   "id": "2f7af33e-a599-4086-9012-f6903c4092c8",
   "metadata": {},
   "outputs": [],
   "source": []
  },
  {
   "cell_type": "code",
   "execution_count": null,
   "id": "0c7b315d-375b-4642-9fd4-bba7eb7e9527",
   "metadata": {},
   "outputs": [],
   "source": []
  },
  {
   "cell_type": "markdown",
   "id": "b09c54ac-abf8-48dd-ac1b-f1054cd7d8c4",
   "metadata": {},
   "source": [
    "----\n",
    "Current implementation for creating a list\n",
    "```python\n",
    "# create fno:expects container \n",
    "c_expects = rdflib.Container(g, \n",
    "                             rdflib.BNode(), \n",
    "                             seq=[ x['s'] for x in g_params_outputs.query('''SELECT ?s ?p ?o WHERE {  ?s a fno:Parameter }''', initNs=NAMESPACES) ], \n",
    "                                     rtype='List')\n",
    "```"
   ]
  },
  {
   "cell_type": "code",
   "execution_count": null,
   "id": "763e1548-9e34-4093-a6c0-80268dd9341d",
   "metadata": {},
   "outputs": [],
   "source": []
  }
 ],
 "metadata": {
  "kernelspec": {
   "display_name": "birdclef-M1",
   "language": "python",
   "name": "birdclef-m1"
  },
  "language_info": {
   "codemirror_mode": {
    "name": "ipython",
    "version": 3
   },
   "file_extension": ".py",
   "mimetype": "text/x-python",
   "name": "python",
   "nbconvert_exporter": "python",
   "pygments_lexer": "ipython3",
   "version": "3.9.12"
  }
 },
 "nbformat": 4,
 "nbformat_minor": 5
}
